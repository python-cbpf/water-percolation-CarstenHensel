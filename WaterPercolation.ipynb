{
 "cells": [
  {
   "cell_type": "code",
   "execution_count": 7,
   "metadata": {},
   "outputs": [],
   "source": [
    "import numpy as np\n",
    "import matplotlib.pyplot as plt\n",
    "from collections import deque"
   ]
  },
  {
   "cell_type": "code",
   "execution_count": 4,
   "metadata": {},
   "outputs": [],
   "source": [
    "def find_empty_cells(grid, pos):\n",
    "    \"\"\"find for a given site (pos) the neighbours that are empty\"\"\"\n",
    "    x, y = pos\n",
    "    dim = grid.shape[0]\n",
    "    empty_cells = []\n",
    "    if x > 0:\n",
    "        if grid[x - 1, y] == 0:\n",
    "            empty_cells.append((x - 1, y))\n",
    "    if x < dim - 1:\n",
    "        if grid[x + 1, y] == 0:\n",
    "            empty_cells.append((x + 1, y))\n",
    "    if y > 0:\n",
    "        if grid[x, y - 1] == 0:\n",
    "            empty_cells.append((x, y - 1))\n",
    "    if y < dim - 1:\n",
    "        if grid[x, y + 1] == 0:\n",
    "            empty_cells.append((x, y + 1))\n",
    "            \n",
    "    return empty_cells"
   ]
  },
  {
   "cell_type": "code",
   "execution_count": 5,
   "metadata": {},
   "outputs": [],
   "source": [
    "steps = 25\n",
    "samples = 10\n",
    "\n",
    "center = 26\n",
    "length = (2 * (center - 1)) + 1\n",
    "\n",
    "results_x = []\n",
    "results_y = []\n",
    "\n",
    "for i in range(steps):\n",
    "    p = i * (1.0 / steps)\n",
    "    successes = 0\n",
    "    for j in range(samples):\n",
    "        grid = np.zeros((length, length))\n",
    "        grid = np.random.choice(a=[1, 0], size=(length, length), p=[p, 1-p])\n",
    "        grid[center, center] = 0\n",
    "        \n",
    "        d = []\n",
    "        cells_to_be_tested = deque()\n",
    "\n",
    "\n",
    "        if grid[center, center] == 0:\n",
    "            d.append((center, center))\n",
    "            cells_to_be_tested.append((center, center))\n",
    "\n",
    "\n",
    "    \n",
    "        while cells_to_be_tested:\n",
    "            cell = cells_to_be_tested.popleft()\n",
    "            cell_candidates = find_empty_cells(grid, cell)\n",
    "            for cell in cell_candidates:\n",
    "                if cell not in d:\n",
    "                    d.append(cell)\n",
    "                    cells_to_be_tested.append(cell)   \n",
    "                    \n",
    "        for cell in d:\n",
    "            x, y = cell\n",
    "            if x == 0 or y == 0 or x == grid.shape[0] or y == grid.shape[1]:\n",
    "                successes += 1\n",
    "                break\n",
    "                \n",
    "    results_x.append(1-p) \n",
    "    results_y.append(successes / samples)"
   ]
  },
  {
   "cell_type": "code",
   "execution_count": 8,
   "metadata": {},
   "outputs": [
    {
     "data": {
      "text/plain": [
       "[<matplotlib.lines.Line2D at 0x115f16278>]"
      ]
     },
     "execution_count": 8,
     "metadata": {},
     "output_type": "execute_result"
    },
    {
     "data": {
      "image/png": "[encoded data removed]",
      "text/plain": [
       "<Figure size 432x288 with 1 Axes>"
      ]
     },
     "metadata": {
      "needs_background": "light"
     },
     "output_type": "display_data"
    }
   ],
   "source": [
    "plt.plot(results_x, results_y, 'bo')"
   ]
  },
  {
   "cell_type": "code",
   "execution_count": null,
   "metadata": {},
   "outputs": [],
   "source": []
  }
 ],
 "metadata": {
  "kernelspec": {
   "display_name": "Python 3",
   "language": "python",
   "name": "python3"
  },
  "language_info": {
   "codemirror_mode": {
    "name": "ipython",
    "version": 3
   },
   "file_extension": ".py",
   "mimetype": "text/x-python",
   "name": "python",
   "nbconvert_exporter": "python",
   "pygments_lexer": "ipython3",
   "version": "3.7.3"
  }
 },
 "nbformat": 4,
 "nbformat_minor": 2
}
